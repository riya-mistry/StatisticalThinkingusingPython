{
  "cells": [
    {
      "metadata": {},
      "cell_type": "markdown",
      "source": "# Preparing a dataset\n\n* How does the dataset handle invalid values? \n* What do we want to do with null values?\n* Do we want to summarise, group or filter the data?"
    },
    {
      "metadata": {
        "trusted": true
      },
      "cell_type": "code",
      "source": "import pandas as pd\nimport numpy as np\n\ndf = pd.read_csv(\"Diabetes.csv\")\ndf.info()",
      "execution_count": 1,
      "outputs": [
        {
          "output_type": "stream",
          "text": "<class 'pandas.core.frame.DataFrame'>\nRangeIndex: 768 entries, 0 to 767\nData columns (total 9 columns):\nPregnancies                 768 non-null int64\nGlucose                     768 non-null int64\nBloodPressure               768 non-null int64\nSkinThickness               768 non-null int64\nInsulin                     768 non-null int64\nBMI                         768 non-null float64\nDiabetesPedigreeFunction    768 non-null float64\nAge                         768 non-null int64\nOutcome                     768 non-null int64\ndtypes: float64(2), int64(7)\nmemory usage: 54.1 KB\n",
          "name": "stdout"
        }
      ]
    },
    {
      "metadata": {
        "trusted": true
      },
      "cell_type": "code",
      "source": "df.head()",
      "execution_count": 2,
      "outputs": [
        {
          "output_type": "execute_result",
          "execution_count": 2,
          "data": {
            "text/html": "<div>\n<table border=\"1\" class=\"dataframe\">\n  <thead>\n    <tr style=\"text-align: right;\">\n      <th></th>\n      <th>Pregnancies</th>\n      <th>Glucose</th>\n      <th>BloodPressure</th>\n      <th>SkinThickness</th>\n      <th>Insulin</th>\n      <th>BMI</th>\n      <th>DiabetesPedigreeFunction</th>\n      <th>Age</th>\n      <th>Outcome</th>\n    </tr>\n  </thead>\n  <tbody>\n    <tr>\n      <th>0</th>\n      <td>6</td>\n      <td>148</td>\n      <td>72</td>\n      <td>35</td>\n      <td>0</td>\n      <td>33.6</td>\n      <td>0.627</td>\n      <td>50</td>\n      <td>1</td>\n    </tr>\n    <tr>\n      <th>1</th>\n      <td>1</td>\n      <td>85</td>\n      <td>66</td>\n      <td>29</td>\n      <td>0</td>\n      <td>26.6</td>\n      <td>0.351</td>\n      <td>31</td>\n      <td>0</td>\n    </tr>\n    <tr>\n      <th>2</th>\n      <td>8</td>\n      <td>183</td>\n      <td>64</td>\n      <td>0</td>\n      <td>0</td>\n      <td>23.3</td>\n      <td>0.672</td>\n      <td>32</td>\n      <td>1</td>\n    </tr>\n    <tr>\n      <th>3</th>\n      <td>1</td>\n      <td>89</td>\n      <td>66</td>\n      <td>23</td>\n      <td>94</td>\n      <td>28.1</td>\n      <td>0.167</td>\n      <td>21</td>\n      <td>0</td>\n    </tr>\n    <tr>\n      <th>4</th>\n      <td>0</td>\n      <td>137</td>\n      <td>40</td>\n      <td>35</td>\n      <td>168</td>\n      <td>43.1</td>\n      <td>2.288</td>\n      <td>33</td>\n      <td>1</td>\n    </tr>\n  </tbody>\n</table>\n</div>",
            "text/plain": "   Pregnancies  Glucose  BloodPressure  SkinThickness  Insulin   BMI  \\\n0            6      148             72             35        0  33.6   \n1            1       85             66             29        0  26.6   \n2            8      183             64              0        0  23.3   \n3            1       89             66             23       94  28.1   \n4            0      137             40             35      168  43.1   \n\n   DiabetesPedigreeFunction  Age  Outcome  \n0                     0.627   50        1  \n1                     0.351   31        0  \n2                     0.672   32        1  \n3                     0.167   21        0  \n4                     2.288   33        1  "
          },
          "metadata": {}
        }
      ]
    },
    {
      "metadata": {},
      "cell_type": "markdown",
      "source": "So it looks like they are using `0` values where they dont have data. I don't think theyre using `NaN` at all, but if they were we could either drop those rows (`dropna`) or fill them to some value (`fillna`). Because they're using `0` already, it might be prudent to do this just in case."
    },
    {
      "metadata": {
        "trusted": true
      },
      "cell_type": "code",
      "source": "df = df.fillna(0)",
      "execution_count": 3,
      "outputs": []
    },
    {
      "metadata": {},
      "cell_type": "markdown",
      "source": "So now we know there are `NaN` values. We could also have just, you know, checked for `NaN`, but now I'm trying to show functions you can use.\n\nSo, what to do with these zero values. In some cases we could fill them with something sensible, but that normally just biases the data. So mostly we'd ignore them. So what we want to do is ask *how* we want to use the data. Will we be using `SkinThickness`? Do we care if there are non-physical outliers?\n\nIf we cared about Glucose, BMI and Age primarily, we could get rid of a ton of these issues but only looking at those columns"
    },
    {
      "metadata": {
        "trusted": true
      },
      "cell_type": "code",
      "source": "df2 = df[[\"Glucose\", \"BMI\", \"Age\", \"Outcome\"]]",
      "execution_count": 4,
      "outputs": []
    },
    {
      "metadata": {
        "trusted": true
      },
      "cell_type": "code",
      "source": "df2.head()",
      "execution_count": 5,
      "outputs": [
        {
          "output_type": "execute_result",
          "execution_count": 5,
          "data": {
            "text/html": "<div>\n<table border=\"1\" class=\"dataframe\">\n  <thead>\n    <tr style=\"text-align: right;\">\n      <th></th>\n      <th>Glucose</th>\n      <th>BMI</th>\n      <th>Age</th>\n      <th>Outcome</th>\n    </tr>\n  </thead>\n  <tbody>\n    <tr>\n      <th>0</th>\n      <td>148</td>\n      <td>33.6</td>\n      <td>50</td>\n      <td>1</td>\n    </tr>\n    <tr>\n      <th>1</th>\n      <td>85</td>\n      <td>26.6</td>\n      <td>31</td>\n      <td>0</td>\n    </tr>\n    <tr>\n      <th>2</th>\n      <td>183</td>\n      <td>23.3</td>\n      <td>32</td>\n      <td>1</td>\n    </tr>\n    <tr>\n      <th>3</th>\n      <td>89</td>\n      <td>28.1</td>\n      <td>21</td>\n      <td>0</td>\n    </tr>\n    <tr>\n      <th>4</th>\n      <td>137</td>\n      <td>43.1</td>\n      <td>33</td>\n      <td>1</td>\n    </tr>\n  </tbody>\n</table>\n</div>",
            "text/plain": "   Glucose   BMI  Age  Outcome\n0      148  33.6   50        1\n1       85  26.6   31        0\n2      183  23.3   32        1\n3       89  28.1   21        0\n4      137  43.1   33        1"
          },
          "metadata": {}
        }
      ]
    },
    {
      "metadata": {
        "trusted": true
      },
      "cell_type": "code",
      "source": "df2.describe()",
      "execution_count": 6,
      "outputs": [
        {
          "output_type": "execute_result",
          "execution_count": 6,
          "data": {
            "text/html": "<div>\n<table border=\"1\" class=\"dataframe\">\n  <thead>\n    <tr style=\"text-align: right;\">\n      <th></th>\n      <th>Glucose</th>\n      <th>BMI</th>\n      <th>Age</th>\n      <th>Outcome</th>\n    </tr>\n  </thead>\n  <tbody>\n    <tr>\n      <th>count</th>\n      <td>768.000000</td>\n      <td>768.000000</td>\n      <td>768.000000</td>\n      <td>768.000000</td>\n    </tr>\n    <tr>\n      <th>mean</th>\n      <td>120.894531</td>\n      <td>31.992578</td>\n      <td>33.240885</td>\n      <td>0.348958</td>\n    </tr>\n    <tr>\n      <th>std</th>\n      <td>31.972618</td>\n      <td>7.884160</td>\n      <td>11.760232</td>\n      <td>0.476951</td>\n    </tr>\n    <tr>\n      <th>min</th>\n      <td>0.000000</td>\n      <td>0.000000</td>\n      <td>21.000000</td>\n      <td>0.000000</td>\n    </tr>\n    <tr>\n      <th>25%</th>\n      <td>99.000000</td>\n      <td>27.300000</td>\n      <td>24.000000</td>\n      <td>0.000000</td>\n    </tr>\n    <tr>\n      <th>50%</th>\n      <td>117.000000</td>\n      <td>32.000000</td>\n      <td>29.000000</td>\n      <td>0.000000</td>\n    </tr>\n    <tr>\n      <th>75%</th>\n      <td>140.250000</td>\n      <td>36.600000</td>\n      <td>41.000000</td>\n      <td>1.000000</td>\n    </tr>\n    <tr>\n      <th>max</th>\n      <td>199.000000</td>\n      <td>67.100000</td>\n      <td>81.000000</td>\n      <td>1.000000</td>\n    </tr>\n  </tbody>\n</table>\n</div>",
            "text/plain": "          Glucose         BMI         Age     Outcome\ncount  768.000000  768.000000  768.000000  768.000000\nmean   120.894531   31.992578   33.240885    0.348958\nstd     31.972618    7.884160   11.760232    0.476951\nmin      0.000000    0.000000   21.000000    0.000000\n25%     99.000000   27.300000   24.000000    0.000000\n50%    117.000000   32.000000   29.000000    0.000000\n75%    140.250000   36.600000   41.000000    1.000000\nmax    199.000000   67.100000   81.000000    1.000000"
          },
          "metadata": {}
        }
      ]
    },
    {
      "metadata": {},
      "cell_type": "markdown",
      "source": "But now lets get rid of any stray zeros. \n\nWhat we want to do is find a row with *any* number of zeros and remove that row. Or in terms of applying a mask, find the rows which have any zero (True), invert that (to False) so when we apply the mask using `loc`, the False entries get dropped."
    },
    {
      "metadata": {
        "trusted": true
      },
      "cell_type": "code",
      "source": "df3 = df2.loc[~(df2[df2.columns[:-1]] == 0).any(axis=1)]\ndf3.describe()\ndf3.info()",
      "execution_count": 7,
      "outputs": [
        {
          "output_type": "stream",
          "text": "<class 'pandas.core.frame.DataFrame'>\nInt64Index: 752 entries, 0 to 767\nData columns (total 4 columns):\nGlucose    752 non-null int64\nBMI        752 non-null float64\nAge        752 non-null int64\nOutcome    752 non-null int64\ndtypes: float64(1), int64(3)\nmemory usage: 29.4 KB\n",
          "name": "stdout"
        }
      ]
    },
    {
      "metadata": {},
      "cell_type": "markdown",
      "source": "Great, so we've selected the data we cared about, made sure it has no `null`-like values. We'll go on to checking things look sane with some plots in the next section. One final thing we could do is to group the data by outcome. It might make it easier to look for patterns in diagnoses.\n\nWe can do this either by splitting out the DataFrame into two (one for yes and one for no), or if we wanted summary statistics we could use the `groupBy` function:"
    },
    {
      "metadata": {
        "trusted": true
      },
      "cell_type": "code",
      "source": "df3.groupby(\"Outcome\").mean()",
      "execution_count": 8,
      "outputs": [
        {
          "output_type": "execute_result",
          "execution_count": 8,
          "data": {
            "text/html": "<div>\n<table border=\"1\" class=\"dataframe\">\n  <thead>\n    <tr style=\"text-align: right;\">\n      <th></th>\n      <th>Glucose</th>\n      <th>BMI</th>\n      <th>Age</th>\n    </tr>\n    <tr>\n      <th>Outcome</th>\n      <th></th>\n      <th></th>\n      <th></th>\n    </tr>\n  </thead>\n  <tbody>\n    <tr>\n      <th>0</th>\n      <td>110.825820</td>\n      <td>30.876434</td>\n      <td>31.309426</td>\n    </tr>\n    <tr>\n      <th>1</th>\n      <td>142.488636</td>\n      <td>35.371970</td>\n      <td>37.015152</td>\n    </tr>\n  </tbody>\n</table>\n</div>",
            "text/plain": "            Glucose        BMI        Age\nOutcome                                  \n0        110.825820  30.876434  31.309426\n1        142.488636  35.371970  37.015152"
          },
          "metadata": {}
        }
      ]
    },
    {
      "metadata": {},
      "cell_type": "markdown",
      "source": "And what this can tell us is that, in general, the higher your glucose level, the more overweight you are, and the older you are, the greater your chance of being diagnosed with diabetes. Which, perhaps, is not that surprising.\n\nWe can do other things using the `groupby` statement, like so:"
    },
    {
      "metadata": {
        "trusted": true
      },
      "cell_type": "code",
      "source": "df3.groupby(\"Outcome\").agg({\"Glucose\": \"mean\", \"BMI\": \"median\", \"Age\": \"sum\"})",
      "execution_count": 9,
      "outputs": [
        {
          "output_type": "execute_result",
          "execution_count": 9,
          "data": {
            "text/html": "<div>\n<table border=\"1\" class=\"dataframe\">\n  <thead>\n    <tr style=\"text-align: right;\">\n      <th></th>\n      <th>BMI</th>\n      <th>Glucose</th>\n      <th>Age</th>\n    </tr>\n    <tr>\n      <th>Outcome</th>\n      <th></th>\n      <th></th>\n      <th></th>\n    </tr>\n  </thead>\n  <tbody>\n    <tr>\n      <th>0</th>\n      <td>30.10</td>\n      <td>110.825820</td>\n      <td>15279</td>\n    </tr>\n    <tr>\n      <th>1</th>\n      <td>34.25</td>\n      <td>142.488636</td>\n      <td>9772</td>\n    </tr>\n  </tbody>\n</table>\n</div>",
            "text/plain": "           BMI     Glucose    Age\nOutcome                          \n0        30.10  110.825820  15279\n1        34.25  142.488636   9772"
          },
          "metadata": {}
        }
      ]
    },
    {
      "metadata": {
        "trusted": true
      },
      "cell_type": "code",
      "source": "df3.groupby(\"Outcome\").agg([\"mean\", \"median\"])",
      "execution_count": 10,
      "outputs": [
        {
          "output_type": "execute_result",
          "execution_count": 10,
          "data": {
            "text/html": "<div>\n<table border=\"1\" class=\"dataframe\">\n  <thead>\n    <tr>\n      <th></th>\n      <th colspan=\"2\" halign=\"left\">Glucose</th>\n      <th colspan=\"2\" halign=\"left\">BMI</th>\n      <th colspan=\"2\" halign=\"left\">Age</th>\n    </tr>\n    <tr>\n      <th></th>\n      <th>mean</th>\n      <th>median</th>\n      <th>mean</th>\n      <th>median</th>\n      <th>mean</th>\n      <th>median</th>\n    </tr>\n    <tr>\n      <th>Outcome</th>\n      <th></th>\n      <th></th>\n      <th></th>\n      <th></th>\n      <th></th>\n      <th></th>\n    </tr>\n  </thead>\n  <tbody>\n    <tr>\n      <th>0</th>\n      <td>110.825820</td>\n      <td>107.5</td>\n      <td>30.876434</td>\n      <td>30.10</td>\n      <td>31.309426</td>\n      <td>27</td>\n    </tr>\n    <tr>\n      <th>1</th>\n      <td>142.488636</td>\n      <td>140.5</td>\n      <td>35.371970</td>\n      <td>34.25</td>\n      <td>37.015152</td>\n      <td>36</td>\n    </tr>\n  </tbody>\n</table>\n</div>",
            "text/plain": "            Glucose               BMI               Age       \n               mean median       mean median       mean median\nOutcome                                                       \n0        110.825820  107.5  30.876434  30.10  31.309426     27\n1        142.488636  140.5  35.371970  34.25  37.015152     36"
          },
          "metadata": {}
        }
      ]
    },
    {
      "metadata": {},
      "cell_type": "markdown",
      "source": "We can also split the dataset into positive and negative outcomes if we wanted. *If*."
    },
    {
      "metadata": {
        "trusted": true
      },
      "cell_type": "code",
      "source": "positive = df3.loc[df3[\"Outcome\"] == 1]\nnegative = df3.loc[df3[\"Outcome\"] == 0]\nprint(positive.shape, negative.shape)",
      "execution_count": 11,
      "outputs": [
        {
          "output_type": "stream",
          "text": "(264, 4) (488, 4)\n",
          "name": "stdout"
        }
      ]
    },
    {
      "metadata": {},
      "cell_type": "markdown",
      "source": "We won't use this splitting just yet, so lets save out the cleaned and prepared dataset, `df3` to file, so our analysis code can load it in the future without having to copy-paste the data prep code into future notebooks."
    },
    {
      "metadata": {
        "trusted": true
      },
      "cell_type": "code",
      "source": "df3.to_csv(\"clean_diabetes.csv\", index=False)",
      "execution_count": 12,
      "outputs": []
    }
  ],
  "metadata": {
    "kernelspec": {
      "name": "python3",
      "display_name": "Python 3",
      "language": "python"
    },
    "language_info": {
      "mimetype": "text/x-python",
      "nbconvert_exporter": "python",
      "name": "python",
      "pygments_lexer": "ipython3",
      "version": "3.5.4",
      "file_extension": ".py",
      "codemirror_mode": {
        "version": 3,
        "name": "ipython"
      }
    }
  },
  "nbformat": 4,
  "nbformat_minor": 2
}